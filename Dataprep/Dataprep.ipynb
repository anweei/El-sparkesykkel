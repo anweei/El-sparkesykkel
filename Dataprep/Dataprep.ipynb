{
 "cells": [
  {
   "cell_type": "code",
   "execution_count": 1,
   "metadata": {},
   "outputs": [],
   "source": [
    "import numpy as np\n",
    "import pandas as pd\n",
    "%matplotlib inline\n",
    "pd.options.mode.chained_assignment = None  # default='warn'"
   ]
  },
  {
   "cell_type": "markdown",
   "metadata": {},
   "source": [
    "Reading all available csv-files, files from electric scooter trips labeled with \"el\""
   ]
  },
  {
   "cell_type": "code",
   "execution_count": 2,
   "metadata": {},
   "outputs": [],
   "source": [
    "normal_acc_1 = pd.read_csv(\"Non-electric/Trips/Accelerometer/67.csv\")\n",
    "normal_acc_2 = pd.read_csv(\"Non-electric/Trips/Accelerometer/68.csv\")\n",
    "normal_acc_3 = pd.read_csv(\"Non-electric/Trips/Accelerometer/69.csv\")\n",
    "normal_acc_4 = pd.read_csv(\"Non-electric/Trips/Accelerometer/70.csv\")\n",
    "normal_acc_5 = pd.read_csv(\"Non-electric/Trips/Accelerometer/71.csv\")\n",
    "normal_acc_6 = pd.read_csv(\"Non-electric/Trips/Accelerometer/72.csv\")\n",
    "reckles_acc_1 = normal_acc = pd.read_csv(\"Non-electric/Trips/Accelerometer/73.csv\")\n",
    "reckles_acc_2 = normal_acc = pd.read_csv(\"Non-electric/Trips/Accelerometer/74.csv\")\n",
    "reckles_acc_3 = normal_acc = pd.read_csv(\"Non-electric/Trips/Accelerometer/76.csv\")\n",
    "reckles_acc_4 = normal_acc = pd.read_csv(\"Non-electric/Trips/Accelerometer/77.csv\")\n",
    "reckles_acc_5 = normal_acc = pd.read_csv(\"Non-electric/Trips/Accelerometer/78.csv\")\n",
    "reckles_acc_6 = normal_acc = pd.read_csv(\"Non-electric/Trips/Accelerometer/79.csv\")\n",
    "\n",
    "acc_normal = [normal_acc_1, normal_acc_2, normal_acc_3, normal_acc_4, normal_acc_5, normal_acc_6]\n",
    "acc_reckless = [reckles_acc_1, reckles_acc_2, reckles_acc_3, reckles_acc_4, reckles_acc_5, reckles_acc_6]"
   ]
  },
  {
   "cell_type": "code",
   "execution_count": 3,
   "metadata": {},
   "outputs": [],
   "source": [
    "normal_gyro_1 = pd.read_csv(\"Non-electric/Trips/Gyro/67.csv\")\n",
    "normal_gyro_2 = pd.read_csv(\"Non-electric/Trips/Gyro/68.csv\")\n",
    "normal_gyro_3 = pd.read_csv(\"Non-electric/Trips/Gyro/69.csv\")\n",
    "normal_gyro_4 = pd.read_csv(\"Non-electric/Trips/Gyro/70.csv\")\n",
    "normal_gyro_5 = pd.read_csv(\"Non-electric/Trips/Gyro/71.csv\")\n",
    "normal_gyro_6 = pd.read_csv(\"Non-electric/Trips/Gyro/72.csv\")\n",
    "reckles_gyro_1 = normal_acc = pd.read_csv(\"Non-electric/Trips/Gyro/73.csv\")\n",
    "reckles_gyro_2 = normal_acc = pd.read_csv(\"Non-electric/Trips/Gyro/74.csv\")\n",
    "reckles_gyro_3 = normal_acc = pd.read_csv(\"Non-electric/Trips/Gyro/76.csv\")\n",
    "reckles_gyro_4 = normal_acc = pd.read_csv(\"Non-electric/Trips/Gyro/77.csv\")\n",
    "reckles_gyro_5 = normal_acc = pd.read_csv(\"Non-electric/Trips/Gyro/78.csv\")\n",
    "reckles_gyro_6 = normal_acc = pd.read_csv(\"Non-electric/Trips/Gyro/79.csv\")\n",
    "\n",
    "gyro_normal = [normal_gyro_1, normal_gyro_2, normal_gyro_3, normal_gyro_4, normal_gyro_5, normal_gyro_6]\n",
    "gyro_reckless = [reckles_gyro_1, reckles_gyro_2, reckles_gyro_3, reckles_gyro_4, reckles_gyro_5, reckles_gyro_6]"
   ]
  },
  {
   "cell_type": "code",
   "execution_count": 4,
   "metadata": {},
   "outputs": [],
   "source": [
    "normal_el_acc_1 = pd.read_csv(\"Electric/Trips/Accelerometer/485.csv\")\n",
    "normal_el_acc_2 = pd.read_csv(\"Electric/Trips/Accelerometer/486.csv\")\n",
    "normal_el_acc_3 = pd.read_csv(\"Electric/Trips/Accelerometer/487.csv\")\n",
    "normal_el_acc_4 = pd.read_csv(\"Electric/Trips/Accelerometer/488.csv\")\n",
    "normal_el_acc_5 = pd.read_csv(\"Electric/Trips/Accelerometer/489.csv\")\n",
    "normal_el_acc_6 = pd.read_csv(\"Electric/Trips/Accelerometer/490.csv\")\n",
    "normal_el_acc_7 = pd.read_csv(\"Electric/Trips/Accelerometer/491.csv\")\n",
    "normal_el_acc_8 = pd.read_csv(\"Electric/Trips/Accelerometer/492.csv\")\n",
    "normal_el_acc_9 = pd.read_csv(\"Electric/Trips/Accelerometer/493.csv\")\n",
    "normal_el_acc_10 = pd.read_csv(\"Electric/Trips/Accelerometer/494.csv\")\n",
    "reckless_el_acc_1 = pd.read_csv(\"Electric/Trips/Accelerometer/495.csv\")\n",
    "reckless_el_acc_2 = pd.read_csv(\"Electric/Trips/Accelerometer/496.csv\")\n",
    "reckless_el_acc_3 = pd.read_csv(\"Electric/Trips/Accelerometer/497.csv\")\n",
    "reckless_el_acc_4 = pd.read_csv(\"Electric/Trips/Accelerometer/498.csv\")\n",
    "reckless_el_acc_5 = pd.read_csv(\"Electric/Trips/Accelerometer/499.csv\")\n",
    "reckless_el_acc_6 = pd.read_csv(\"Electric/Trips/Accelerometer/500.csv\")\n",
    "reckless_el_acc_7 = pd.read_csv(\"Electric/Trips/Accelerometer/501.csv\")\n",
    "reckless_el_acc_8 = pd.read_csv(\"Electric/Trips/Accelerometer/502.csv\")\n",
    "reckless_el_acc_9 = pd.read_csv(\"Electric/Trips/Accelerometer/503.csv\")\n",
    "reckless_el_acc_10 = pd.read_csv(\"Electric/Trips/Accelerometer/504.csv\")\n",
    "reckless_el_acc_11 = pd.read_csv(\"Electric/Trips/Accelerometer/505.csv\")\n",
    "reckless_el_acc_12 = pd.read_csv(\"Electric/Trips/Accelerometer/506.csv\")\n",
    "reckless_el_acc_13 = pd.read_csv(\"Electric/Trips/Accelerometer/507.csv\")\n",
    "reckless_el_acc_14 = pd.read_csv(\"Electric/Trips/Accelerometer/508.csv\")\n",
    "\n",
    "el_acc_normal = [normal_el_acc_1, normal_el_acc_2, normal_el_acc_3,normal_el_acc_4, normal_el_acc_5, normal_el_acc_6,\n",
    "                 normal_el_acc_7, normal_el_acc_8, normal_el_acc_9, normal_el_acc_10]\n",
    "el_acc_reckless = [reckless_el_acc_1, reckless_el_acc_2, reckless_el_acc_3, reckless_el_acc_4, reckless_el_acc_5,\n",
    "                   reckless_el_acc_6, reckless_el_acc_7, reckless_el_acc_8, reckless_el_acc_9, reckless_el_acc_10,\n",
    "                   reckless_el_acc_11, reckless_el_acc_12, reckless_el_acc_13, reckless_el_acc_14]"
   ]
  },
  {
   "cell_type": "code",
   "execution_count": 5,
   "metadata": {},
   "outputs": [],
   "source": [
    "normal_el_gyro_1 = pd.read_csv(\"Electric/Trips/Gyro/485.csv\")\n",
    "normal_el_gyro_2 = pd.read_csv(\"Electric/Trips/Gyro/486.csv\")\n",
    "normal_el_gyro_3 = pd.read_csv(\"Electric/Trips/Gyro/487.csv\")\n",
    "normal_el_gyro_4 = pd.read_csv(\"Electric/Trips/Gyro/488.csv\")\n",
    "normal_el_gyro_5 = pd.read_csv(\"Electric/Trips/Gyro/489.csv\")\n",
    "normal_el_gyro_6 = pd.read_csv(\"Electric/Trips/Gyro/490.csv\")\n",
    "normal_el_gyro_7 = pd.read_csv(\"Electric/Trips/Gyro/491.csv\")\n",
    "normal_el_gyro_8 = pd.read_csv(\"Electric/Trips/Gyro/492.csv\")\n",
    "normal_el_gyro_9 = pd.read_csv(\"Electric/Trips/Gyro/493.csv\")\n",
    "normal_el_gyro_10 = pd.read_csv(\"Electric/Trips/Gyro/494.csv\")\n",
    "reckless_el_gyro_1 = pd.read_csv(\"Electric/Trips/Gyro/495.csv\")\n",
    "reckless_el_gyro_2 = pd.read_csv(\"Electric/Trips/Gyro/496.csv\")\n",
    "reckless_el_gyro_3 = pd.read_csv(\"Electric/Trips/Gyro/497.csv\")\n",
    "reckless_el_gyro_4 = pd.read_csv(\"Electric/Trips/Gyro/498.csv\")\n",
    "reckless_el_gyro_5 = pd.read_csv(\"Electric/Trips/Gyro/499.csv\")\n",
    "reckless_el_gyro_6 = pd.read_csv(\"Electric/Trips/Gyro/500.csv\")\n",
    "reckless_el_gyro_7 = pd.read_csv(\"Electric/Trips/Gyro/501.csv\")\n",
    "reckless_el_gyro_8 = pd.read_csv(\"Electric/Trips/Gyro/502.csv\")\n",
    "reckless_el_gyro_9 = pd.read_csv(\"Electric/Trips/Gyro/503.csv\")\n",
    "reckless_el_gyro_10 = pd.read_csv(\"Electric/Trips/Gyro/504.csv\")\n",
    "reckless_el_gyro_11 = pd.read_csv(\"Electric/Trips/Gyro/505.csv\")\n",
    "reckless_el_gyro_12 = pd.read_csv(\"Electric/Trips/Gyro/506.csv\")\n",
    "reckless_el_gyro_13 = pd.read_csv(\"Electric/Trips/Gyro/507.csv\")\n",
    "reckless_el_gyro_14 = pd.read_csv(\"Electric/Trips/Gyro/508.csv\")\n",
    "\n",
    "el_gyro_normal = [normal_el_gyro_1, normal_el_gyro_2, normal_el_gyro_3,normal_el_gyro_4, normal_el_gyro_5, normal_el_gyro_6,\n",
    "                 normal_el_gyro_7, normal_el_gyro_8, normal_el_gyro_9, normal_el_gyro_10]\n",
    "el_gyro_reckless = [reckless_el_gyro_1, reckless_el_gyro_2, reckless_el_gyro_3, reckless_el_gyro_4, reckless_el_gyro_5,\n",
    "                   reckless_el_gyro_6, reckless_el_gyro_7, reckless_el_gyro_8, reckless_el_gyro_9, reckless_el_gyro_10,\n",
    "                   reckless_el_gyro_11, reckless_el_gyro_12, reckless_el_gyro_13, reckless_el_gyro_14]"
   ]
  },
  {
   "cell_type": "markdown",
   "metadata": {},
   "source": [
    "### Methods used in pipeline"
   ]
  },
  {
   "cell_type": "code",
   "execution_count": 6,
   "metadata": {},
   "outputs": [],
   "source": [
    "def renameAccelCols(df):\n",
    "  df_result = df.rename(columns={ \"Accelerometer (z) [m/s2]\": \"acc_z\", \"Accelerometer (x) [m/s2]\": \"acc_x\", \"Accelerometer (y) [m/s2]\": \"acc_y\"})\n",
    "  df_result.drop(\"date\", axis=1, inplace=True)\n",
    "  df_result.drop(\"temperature [°C]\", axis=1, inplace=True)\n",
    "  #df_result.drop(\"Unnamed: 0\", axis=1, inplace=True)\n",
    "  return df_result\n",
    "\n",
    "def renameGyroCols(df):\n",
    "  df_result = df.rename(columns={ \"Gyroscope (z) [rad/s]\": \"gyro_z\", \"Gyroscope (x) [rad/s]\": \"gyro_x\", \"Gyroscope (y) [rad/s]\": \"gyro_y\"})\n",
    "  df_result.drop(\"date\", axis=1, inplace=True)\n",
    "  df_result.drop(\"temperature [°C]\", axis=1, inplace=True)\n",
    "  #df_result.drop(\"Unnamed: 0\", axis=1, inplace=True)\n",
    "  return df_result\n",
    "\n",
    "\n",
    "def labelData(windowSize, df, label, lastSampleNo):\n",
    "  \"\"\"\n",
    "  Adapted from: https://github.com/keencyclist/movement/blob/master/notebooks/Assemble_Datasets.ipynb \n",
    "  windowSize = frequency * seconds \n",
    "  df = dataframe\n",
    "  label = string\n",
    "  lastSamlpeNo = int\n",
    "  Returns labeled dataframe and the next sample number\n",
    "  \"\"\" \n",
    "  df_result = pd.DataFrame()\n",
    "  df[\"label\"] = label\n",
    "  df[\"sampleNum\"] = -1\n",
    "  remainder = len(df)%windowSize\n",
    "  if (remainder == 0):\n",
    "    df_temp = df\n",
    "  else:\n",
    "    df_temp = df[:-remainder]\n",
    "  numSamples = int(len(df)/windowSize)\n",
    "  rowCounter = 0\n",
    "  for i in range(0, numSamples):\n",
    "    df_temp.sampleNum[rowCounter:rowCounter+windowSize]=lastSampleNo+i # label samples with number\n",
    "    rowCounter = rowCounter+windowSize\n",
    "  df_result = df_result.append(df_temp, ignore_index=True)  \n",
    "  return df_result, numSamples + lastSampleNo\n",
    "\n",
    "def labelAndJoinAllData(df_table_1, label_1, df_table_2, label_2, windowSize):\n",
    "  \"\"\"\n",
    "    Input: array of dataframes, label and window size (frequency * seconds)\n",
    "    Return: one labeled dataframe containing all datasets\n",
    "  \"\"\"\n",
    "  df_result = pd.DataFrame()\n",
    "  lastSampleNo = 0\n",
    "  for df in df_table_1:\n",
    "    result = labelData(windowSize, df, label_1, lastSampleNo)\n",
    "    df_result = concatTrip(df_result, result[0])\n",
    "    lastSampleNo = result[1]\n",
    "  for df in df_table_2:\n",
    "    result = labelData(windowSize, df, label_2, lastSampleNo)\n",
    "    df_result = concatTrip(df_result, result[0])\n",
    "    lastSampleNo = result[1]\n",
    "  return df_result\n",
    "\n",
    "def Range(x):\n",
    "  return x.max() - x.min()\n",
    "\n",
    "def addFeatures(df):\n",
    "  ranges = df.groupby([\"sampleNum\", \"label\"]).apply(Range).add_prefix(\"range_\")\n",
    "  stdevs = df.groupby([\"sampleNum\", \"label\"]).std().add_prefix(\"std_\")\n",
    "  means = df.groupby([\"sampleNum\", \"label\"]).mean().add_prefix(\"mean_\")\n",
    "  df_result = pd.concat([stdevs, means, ranges], axis=1)\n",
    "  df_result.reset_index(inplace=True)\n",
    "  return df_result\n",
    "\n",
    "def pipelineAccelGyro(df_accel, df_gyro):\n",
    "  df_result = mergeAccelGyro(addFeatures(df_accel),addFeatures(df_gyro))\n",
    "  return df_result\n",
    "\n",
    "def pipelineAccel(df_accel):\n",
    "  df_result = addFeatures(df_accel)\n",
    "  return df_result\n",
    "\n",
    "def mergeAccelGyro(df_accel, df_gyro):\n",
    "  df_result = pd.merge(df_accel, df_gyro, on=[\"sampleNum\", \"label\"])\n",
    "  return df_result\n",
    "\n",
    "def concatTrip(df1, df2):\n",
    "  df_result = pd.concat([df1, df2])\n",
    "  return df_result"
   ]
  },
  {
   "cell_type": "markdown",
   "metadata": {},
   "source": [
    "### Label and join individual trips"
   ]
  },
  {
   "cell_type": "markdown",
   "metadata": {},
   "source": [
    "#### First dataset, non-electric scooters"
   ]
  },
  {
   "cell_type": "code",
   "execution_count": 7,
   "metadata": {},
   "outputs": [],
   "source": [
    "df_raw_acc = renameAccelCols(labelAndJoinAllData(acc_normal, \"Normal\", acc_reckless, \"Reckless\", 400))\n",
    "df_raw_gyro = renameGyroCols(labelAndJoinAllData(gyro_normal, \"Normal\", gyro_reckless, \"Reckless\", 200))"
   ]
  },
  {
   "cell_type": "code",
   "execution_count": 8,
   "metadata": {},
   "outputs": [
    {
     "name": "stdout",
     "output_type": "stream",
     "text": [
      "<class 'pandas.core.frame.DataFrame'>\n",
      "Int64Index: 379200 entries, 0 to 28399\n",
      "Data columns (total 5 columns):\n",
      " #   Column     Non-Null Count   Dtype  \n",
      "---  ------     --------------   -----  \n",
      " 0   acc_z      379200 non-null  float64\n",
      " 1   acc_x      379200 non-null  float64\n",
      " 2   acc_y      379200 non-null  float64\n",
      " 3   label      379200 non-null  object \n",
      " 4   sampleNum  379200 non-null  int64  \n",
      "dtypes: float64(3), int64(1), object(1)\n",
      "memory usage: 17.4+ MB\n"
     ]
    }
   ],
   "source": [
    "df_raw_acc.info()"
   ]
  },
  {
   "cell_type": "code",
   "execution_count": 9,
   "metadata": {},
   "outputs": [],
   "source": [
    "df_raw_acc.to_csv(r\"Non-electric/raw_acc.csv\", index=False)\n",
    "df_raw_gyro.to_csv(r\"Non-electric/raw_gyro.csv\", index=False)"
   ]
  },
  {
   "cell_type": "code",
   "execution_count": 10,
   "metadata": {},
   "outputs": [],
   "source": [
    "df_acc_features = pipelineAccel(df_raw_acc)\n",
    "df_acc_gyro_features = pipelineAccelGyro(df_raw_acc, df_raw_gyro)"
   ]
  },
  {
   "cell_type": "code",
   "execution_count": 11,
   "metadata": {},
   "outputs": [
    {
     "name": "stdout",
     "output_type": "stream",
     "text": [
      "<class 'pandas.core.frame.DataFrame'>\n",
      "RangeIndex: 948 entries, 0 to 947\n",
      "Data columns (total 11 columns):\n",
      " #   Column       Non-Null Count  Dtype  \n",
      "---  ------       --------------  -----  \n",
      " 0   sampleNum    948 non-null    int64  \n",
      " 1   label        948 non-null    object \n",
      " 2   std_acc_z    948 non-null    float64\n",
      " 3   std_acc_x    948 non-null    float64\n",
      " 4   std_acc_y    948 non-null    float64\n",
      " 5   mean_acc_z   948 non-null    float64\n",
      " 6   mean_acc_x   948 non-null    float64\n",
      " 7   mean_acc_y   948 non-null    float64\n",
      " 8   range_acc_z  948 non-null    float64\n",
      " 9   range_acc_x  948 non-null    float64\n",
      " 10  range_acc_y  948 non-null    float64\n",
      "dtypes: float64(9), int64(1), object(1)\n",
      "memory usage: 81.6+ KB\n"
     ]
    }
   ],
   "source": [
    "df_acc_features.info()"
   ]
  },
  {
   "cell_type": "code",
   "execution_count": 12,
   "metadata": {},
   "outputs": [],
   "source": [
    "df_acc_features.to_csv(r\"Non-electric/acc_features.csv\", index=False)\n",
    "df_acc_gyro_features.to_csv(r\"Non-electric/acc_gyro_features.csv\", index=False)"
   ]
  },
  {
   "cell_type": "markdown",
   "metadata": {},
   "source": [
    "#### Second dataset, electric scooter"
   ]
  },
  {
   "cell_type": "code",
   "execution_count": 13,
   "metadata": {},
   "outputs": [],
   "source": [
    "df_raw_acc = renameAccelCols(labelAndJoinAllData(el_acc_normal, \"Normal\", el_acc_reckless, \"Reckless\", 400))\n",
    "df_raw_gyro = renameGyroCols(labelAndJoinAllData(el_gyro_normal, \"Normal\", el_gyro_reckless, \"Reckless\", 200))"
   ]
  },
  {
   "cell_type": "code",
   "execution_count": 14,
   "metadata": {},
   "outputs": [
    {
     "name": "stdout",
     "output_type": "stream",
     "text": [
      "<class 'pandas.core.frame.DataFrame'>\n",
      "Int64Index: 1059600 entries, 0 to 35599\n",
      "Data columns (total 5 columns):\n",
      " #   Column     Non-Null Count    Dtype  \n",
      "---  ------     --------------    -----  \n",
      " 0   acc_z      1059600 non-null  float64\n",
      " 1   acc_x      1059600 non-null  float64\n",
      " 2   acc_y      1059600 non-null  float64\n",
      " 3   label      1059600 non-null  object \n",
      " 4   sampleNum  1059600 non-null  int64  \n",
      "dtypes: float64(3), int64(1), object(1)\n",
      "memory usage: 48.5+ MB\n"
     ]
    }
   ],
   "source": [
    "df_raw_acc.info()"
   ]
  },
  {
   "cell_type": "code",
   "execution_count": 15,
   "metadata": {},
   "outputs": [],
   "source": [
    "df_raw_acc.to_csv(r\"Electric/raw_acc.csv\", index=False)\n",
    "df_raw_gyro.to_csv(r\"Electric/raw_gyro.csv\", index=False)"
   ]
  },
  {
   "cell_type": "code",
   "execution_count": 16,
   "metadata": {},
   "outputs": [],
   "source": [
    "df_acc_features = pipelineAccel(df_raw_acc)\n",
    "df_acc_gyro_features = pipelineAccelGyro(df_raw_acc, df_raw_gyro)"
   ]
  },
  {
   "cell_type": "code",
   "execution_count": 17,
   "metadata": {},
   "outputs": [
    {
     "name": "stdout",
     "output_type": "stream",
     "text": [
      "<class 'pandas.core.frame.DataFrame'>\n",
      "Int64Index: 2649 entries, 0 to 2648\n",
      "Data columns (total 20 columns):\n",
      " #   Column        Non-Null Count  Dtype  \n",
      "---  ------        --------------  -----  \n",
      " 0   sampleNum     2649 non-null   int64  \n",
      " 1   label         2649 non-null   object \n",
      " 2   std_acc_z     2649 non-null   float64\n",
      " 3   std_acc_x     2649 non-null   float64\n",
      " 4   std_acc_y     2649 non-null   float64\n",
      " 5   mean_acc_z    2649 non-null   float64\n",
      " 6   mean_acc_x    2649 non-null   float64\n",
      " 7   mean_acc_y    2649 non-null   float64\n",
      " 8   range_acc_z   2649 non-null   float64\n",
      " 9   range_acc_x   2649 non-null   float64\n",
      " 10  range_acc_y   2649 non-null   float64\n",
      " 11  std_gyro_z    2649 non-null   float64\n",
      " 12  std_gyro_x    2649 non-null   float64\n",
      " 13  std_gyro_y    2649 non-null   float64\n",
      " 14  mean_gyro_z   2649 non-null   float64\n",
      " 15  mean_gyro_x   2649 non-null   float64\n",
      " 16  mean_gyro_y   2649 non-null   float64\n",
      " 17  range_gyro_z  2649 non-null   float64\n",
      " 18  range_gyro_x  2649 non-null   float64\n",
      " 19  range_gyro_y  2649 non-null   float64\n",
      "dtypes: float64(18), int64(1), object(1)\n",
      "memory usage: 434.6+ KB\n"
     ]
    }
   ],
   "source": [
    "df_acc_gyro_features.info()"
   ]
  },
  {
   "cell_type": "code",
   "execution_count": 18,
   "metadata": {},
   "outputs": [],
   "source": [
    "df_acc_features.to_csv(r\"Electric/acc_features.csv\", index=False)\n",
    "df_acc_gyro_features.to_csv(r\"Electric/acc_gyro_features.csv\", index=False)"
   ]
  }
 ],
 "metadata": {
  "kernelspec": {
   "display_name": "DAT158",
   "language": "python",
   "name": "dat158"
  },
  "language_info": {
   "codemirror_mode": {
    "name": "ipython",
    "version": 3
   },
   "file_extension": ".py",
   "mimetype": "text/x-python",
   "name": "python",
   "nbconvert_exporter": "python",
   "pygments_lexer": "ipython3",
   "version": "3.7.6"
  }
 },
 "nbformat": 4,
 "nbformat_minor": 2
}
